{
 "cells": [
  {
   "cell_type": "code",
   "execution_count": 1,
   "metadata": {},
   "outputs": [],
   "source": [
    "import requests"
   ]
  },
  {
   "cell_type": "code",
   "execution_count": 2,
   "metadata": {},
   "outputs": [],
   "source": [
    "text = ''' Financial Performance\n",
    "Operating profit excluding loan impairment charges and other credit risk provisions was down 14.3 per\n",
    "cent at HK$14,136 million. Operating profit declined by 2.9 per cent to HK$13,324 million, with good\n",
    "credit risk management and improving economic conditions in the second half leading to a significant\n",
    "drop in loan impairment charges and other credit risk provisions.\n",
    "Profit before tax fell by 2.5 per cent to HK$15,477 million.\n",
    "Profit attributable to shareholders was down 6.2 per cent at HK$13,221 million. Earnings per share\n",
    "were HK$6.92 – a drop of 6.1 per cent compared with a year earlier.\n",
    "Lower staff-related expenses and further emphasis on cost containment resulted in a 1.8 per cent\n",
    "reduction in operating expenses to HK$6,676 million. However, net operating income before loan\n",
    "impairment charges and other credit risk provisions was down 10.7 per cent at HK$20,812 million,\n",
    "due mainly to the adverse impact of low interest rates on deposit spreads and mortgage portfolio\n",
    "pricing. With the reduction in operating expenses outpaced by the drop in income, our cost efficiency\n",
    "ratio rose to 32.1 per cent.\n",
    "Return on average shareholders’ funds was 24.6 per cent, compared with 26 per cent in 2008. Return\n",
    "on average total assets was down 0.2 percentage points at 1.7 per cent.\n",
    "On 31 December 2009, our capital adequacy and core capital ratios were 15.8 per cent and 12.8 per\n",
    "cent respectively, as calculated using the ‘advanced internal ratings-based approach’ under Basel II,\n",
    "compared with 12.5 per cent and 9.5 per cent respectively as calculated using the ‘foundation internal\n",
    "ratings-based approach’ under Basel II at the end of 2008. The strengthening of these ratios in 2009\n",
    "largely reflects profit growth after accounting for dividends during the year, the improvement in the\n",
    "available-for-sale debt securities reserve due to the narrowing of credit spreads, and the change in\n",
    "calculation methodology.\n",
    "After careful consideration of our capital needs for future business opportunities, particularly in\n",
    "mainland China, as well as additional capital requirements under potential changes in the regulatory\n",
    "environment, the Directors have declared a fourth interim dividend of HK$1.90 per share, payable on\n",
    "31 March 2010. This brings the total distribution for 2009 to HK$5.20 per share.\n",
    "In the second half of last year, we appointed three new Directors to the Board. In August, Mrs Dorothy\n",
    "Sit, Vice-Chairman and Chief Executive of Hang Seng Bank (China) Limited, was appointed as a Non-\n",
    "executive Director, and Mr William Leung – formerly General Manager, Personal Financial Services\n",
    "and Wealth Management – was appointed as an Executive Director and Head of Personal Banking. In\n",
    "September, Mr Iain Mackay, Chief Financial Officer of The Hongkong and Shanghai Banking\n",
    "Corporation Limited, was appointed as a Non-executive Director.\n",
    "I would like to take this opportunity to thank our stakeholders for their continued faith in Hang Seng\n",
    "during a period of financial market turmoil that has affected economies, businesses and individuals\n",
    "across the world.\n",
    "To our customers and local communities: Your loyalty and support in the challenging economic\n",
    "conditions have energised and inspired us in our efforts to achieve ever-higher standards of service\n",
    "excellence. We are proud to be a trusted partner in meeting your financial goals and wealth\n",
    "management needs.\n",
    "To our staff: Your dedication and professionalism have been crucial in reinforcing the integrity of the\n",
    "Hang Seng brand, which has proved a vital source of strength in an increasingly competitive operating\n",
    "environment.\n",
    "To our shareholders: Your strong support of Hang Seng underlines our confidence that we have a\n",
    "good strategy for moving our business forward and offering increasing value over the long term.'''"
   ]
  }
 ],
 "metadata": {
  "kernelspec": {
   "display_name": "Python 3",
   "language": "python",
   "name": "python3"
  },
  "language_info": {
   "codemirror_mode": {
    "name": "ipython",
    "version": 3
   },
   "file_extension": ".py",
   "mimetype": "text/x-python",
   "name": "python",
   "nbconvert_exporter": "python",
   "pygments_lexer": "ipython3",
   "version": "3.5.2"
  }
 },
 "nbformat": 4,
 "nbformat_minor": 2
}
