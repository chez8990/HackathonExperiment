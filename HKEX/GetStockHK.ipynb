{
 "nbformat": 4,
 "nbformat_minor": 2,
 "metadata": {
  "language_info": {
   "name": "python",
   "codemirror_mode": {
    "name": "ipython",
    "version": 3
   }
  },
  "orig_nbformat": 2,
  "file_extension": ".py",
  "mimetype": "text/x-python",
  "name": "python",
  "npconvert_exporter": "python",
  "pygments_lexer": "ipython3",
  "version": 3
 },
 "cells": [
  {
   "cell_type": "markdown",
   "execution_count": null,
   "metadata": {},
   "outputs": [],
   "source": [
    "# Given the corporation stock codes (four digits) in Hong Kong Exchange, set the function to get the stock prices."
   ]
  },
  {
   "cell_type": "code",
   "execution_count": 1,
   "metadata": {},
   "outputs": [],
   "source": [
    "# pip install yfinance --upgrade --no-cache-dir\n",
    "import yfinance as yf\n",
    "import datetime\n"
   ]
  },
  {
   "cell_type": "code",
   "execution_count": 2,
   "metadata": {},
   "outputs": [],
   "source": [
    "def GetStockHK(stock_code, start = datetime.datetime.today() - datetime.timedelta(days=30), end = datetime.datetime.today()):\n",
    "    # The function will return daily stocks prices of recent 30 days\n",
    "    return(yf.download(str(stock_code) + '.HK', start, end))"
   ]
  },
  {
   "cell_type": "code",
   "execution_count": 3,
   "metadata": {},
   "outputs": [
    {
     "name": "stdout",
     "output_type": "stream",
     "text": "[*********************100%***********************]  1 of 1 completed\n"
    }
   ],
   "source": [
    "df1 = GetStockHK('0011')"
   ]
  },
  {
   "cell_type": "code",
   "execution_count": 4,
   "metadata": {},
   "outputs": [
    {
     "data": {
      "text/html": "<div>\n<style scoped>\n    .dataframe tbody tr th:only-of-type {\n        vertical-align: middle;\n    }\n\n    .dataframe tbody tr th {\n        vertical-align: top;\n    }\n\n    .dataframe thead th {\n        text-align: right;\n    }\n</style>\n<table border=\"1\" class=\"dataframe\">\n  <thead>\n    <tr style=\"text-align: right;\">\n      <th></th>\n      <th>Open</th>\n      <th>High</th>\n      <th>Low</th>\n      <th>Close</th>\n      <th>Adj Close</th>\n      <th>Volume</th>\n    </tr>\n    <tr>\n      <th>Date</th>\n      <th></th>\n      <th></th>\n      <th></th>\n      <th></th>\n      <th></th>\n      <th></th>\n    </tr>\n  </thead>\n  <tbody>\n    <tr>\n      <td>2019-10-03</td>\n      <td>167.000000</td>\n      <td>168.000000</td>\n      <td>166.500000</td>\n      <td>167.899994</td>\n      <td>166.469315</td>\n      <td>4818439</td>\n    </tr>\n    <tr>\n      <td>2019-10-04</td>\n      <td>169.100006</td>\n      <td>169.100006</td>\n      <td>163.199997</td>\n      <td>164.600006</td>\n      <td>163.197449</td>\n      <td>2170287</td>\n    </tr>\n    <tr>\n      <td>2019-10-08</td>\n      <td>165.100006</td>\n      <td>168.000000</td>\n      <td>164.500000</td>\n      <td>165.199997</td>\n      <td>163.792328</td>\n      <td>1575458</td>\n    </tr>\n    <tr>\n      <td>2019-10-09</td>\n      <td>163.000000</td>\n      <td>163.500000</td>\n      <td>159.000000</td>\n      <td>159.800003</td>\n      <td>158.438339</td>\n      <td>6257372</td>\n    </tr>\n    <tr>\n      <td>2019-10-10</td>\n      <td>159.000000</td>\n      <td>160.500000</td>\n      <td>157.000000</td>\n      <td>158.000000</td>\n      <td>156.653671</td>\n      <td>2045361</td>\n    </tr>\n    <tr>\n      <td>2019-10-11</td>\n      <td>159.899994</td>\n      <td>164.000000</td>\n      <td>159.800003</td>\n      <td>163.500000</td>\n      <td>162.106812</td>\n      <td>3003359</td>\n    </tr>\n    <tr>\n      <td>2019-10-14</td>\n      <td>164.500000</td>\n      <td>166.100006</td>\n      <td>162.800003</td>\n      <td>164.300003</td>\n      <td>162.899994</td>\n      <td>1966618</td>\n    </tr>\n    <tr>\n      <td>2019-10-15</td>\n      <td>162.800003</td>\n      <td>163.500000</td>\n      <td>161.199997</td>\n      <td>161.800003</td>\n      <td>161.800003</td>\n      <td>2008218</td>\n    </tr>\n    <tr>\n      <td>2019-10-16</td>\n      <td>161.199997</td>\n      <td>164.000000</td>\n      <td>159.600006</td>\n      <td>162.399994</td>\n      <td>162.399994</td>\n      <td>3057096</td>\n    </tr>\n    <tr>\n      <td>2019-10-17</td>\n      <td>161.300003</td>\n      <td>166.800003</td>\n      <td>161.300003</td>\n      <td>165.399994</td>\n      <td>165.399994</td>\n      <td>2758933</td>\n    </tr>\n    <tr>\n      <td>2019-10-18</td>\n      <td>165.399994</td>\n      <td>165.399994</td>\n      <td>163.199997</td>\n      <td>163.300003</td>\n      <td>163.300003</td>\n      <td>1445377</td>\n    </tr>\n    <tr>\n      <td>2019-10-21</td>\n      <td>163.300003</td>\n      <td>164.500000</td>\n      <td>162.300003</td>\n      <td>164.000000</td>\n      <td>164.000000</td>\n      <td>1246367</td>\n    </tr>\n    <tr>\n      <td>2019-10-22</td>\n      <td>164.399994</td>\n      <td>165.500000</td>\n      <td>164.100006</td>\n      <td>165.199997</td>\n      <td>165.199997</td>\n      <td>974958</td>\n    </tr>\n    <tr>\n      <td>2019-10-23</td>\n      <td>165.500000</td>\n      <td>165.899994</td>\n      <td>164.100006</td>\n      <td>165.500000</td>\n      <td>165.500000</td>\n      <td>1839692</td>\n    </tr>\n    <tr>\n      <td>2019-10-24</td>\n      <td>166.300003</td>\n      <td>168.000000</td>\n      <td>165.500000</td>\n      <td>167.600006</td>\n      <td>167.600006</td>\n      <td>1961605</td>\n    </tr>\n    <tr>\n      <td>2019-10-25</td>\n      <td>168.000000</td>\n      <td>168.000000</td>\n      <td>166.199997</td>\n      <td>167.199997</td>\n      <td>167.199997</td>\n      <td>850079</td>\n    </tr>\n    <tr>\n      <td>2019-10-28</td>\n      <td>166.300003</td>\n      <td>167.500000</td>\n      <td>165.800003</td>\n      <td>166.000000</td>\n      <td>166.000000</td>\n      <td>1808379</td>\n    </tr>\n    <tr>\n      <td>2019-10-29</td>\n      <td>165.399994</td>\n      <td>165.800003</td>\n      <td>163.199997</td>\n      <td>164.199997</td>\n      <td>164.199997</td>\n      <td>2481042</td>\n    </tr>\n    <tr>\n      <td>2019-10-30</td>\n      <td>163.699997</td>\n      <td>163.800003</td>\n      <td>162.000000</td>\n      <td>162.800003</td>\n      <td>162.800003</td>\n      <td>1978749</td>\n    </tr>\n    <tr>\n      <td>2019-10-31</td>\n      <td>161.500000</td>\n      <td>165.800003</td>\n      <td>161.500000</td>\n      <td>163.800003</td>\n      <td>163.800003</td>\n      <td>1502375</td>\n    </tr>\n    <tr>\n      <td>2019-11-01</td>\n      <td>162.000000</td>\n      <td>165.600006</td>\n      <td>162.000000</td>\n      <td>165.100006</td>\n      <td>165.100006</td>\n      <td>1424187</td>\n    </tr>\n  </tbody>\n</table>\n</div>",
      "text/plain": "                  Open        High         Low       Close   Adj Close  \\\nDate                                                                     \n2019-10-03  167.000000  168.000000  166.500000  167.899994  166.469315   \n2019-10-04  169.100006  169.100006  163.199997  164.600006  163.197449   \n2019-10-08  165.100006  168.000000  164.500000  165.199997  163.792328   \n2019-10-09  163.000000  163.500000  159.000000  159.800003  158.438339   \n2019-10-10  159.000000  160.500000  157.000000  158.000000  156.653671   \n2019-10-11  159.899994  164.000000  159.800003  163.500000  162.106812   \n2019-10-14  164.500000  166.100006  162.800003  164.300003  162.899994   \n2019-10-15  162.800003  163.500000  161.199997  161.800003  161.800003   \n2019-10-16  161.199997  164.000000  159.600006  162.399994  162.399994   \n2019-10-17  161.300003  166.800003  161.300003  165.399994  165.399994   \n2019-10-18  165.399994  165.399994  163.199997  163.300003  163.300003   \n2019-10-21  163.300003  164.500000  162.300003  164.000000  164.000000   \n2019-10-22  164.399994  165.500000  164.100006  165.199997  165.199997   \n2019-10-23  165.500000  165.899994  164.100006  165.500000  165.500000   \n2019-10-24  166.300003  168.000000  165.500000  167.600006  167.600006   \n2019-10-25  168.000000  168.000000  166.199997  167.199997  167.199997   \n2019-10-28  166.300003  167.500000  165.800003  166.000000  166.000000   \n2019-10-29  165.399994  165.800003  163.199997  164.199997  164.199997   \n2019-10-30  163.699997  163.800003  162.000000  162.800003  162.800003   \n2019-10-31  161.500000  165.800003  161.500000  163.800003  163.800003   \n2019-11-01  162.000000  165.600006  162.000000  165.100006  165.100006   \n\n             Volume  \nDate                 \n2019-10-03  4818439  \n2019-10-04  2170287  \n2019-10-08  1575458  \n2019-10-09  6257372  \n2019-10-10  2045361  \n2019-10-11  3003359  \n2019-10-14  1966618  \n2019-10-15  2008218  \n2019-10-16  3057096  \n2019-10-17  2758933  \n2019-10-18  1445377  \n2019-10-21  1246367  \n2019-10-22   974958  \n2019-10-23  1839692  \n2019-10-24  1961605  \n2019-10-25   850079  \n2019-10-28  1808379  \n2019-10-29  2481042  \n2019-10-30  1978749  \n2019-10-31  1502375  \n2019-11-01  1424187  "
     },
     "execution_count": 4,
     "metadata": {},
     "output_type": "execute_result"
    }
   ],
   "source": [
    "df1"
   ]
  },
  {
   "cell_type": "code",
   "execution_count": null,
   "metadata": {},
   "outputs": [],
   "source": []
  }
 ]
}