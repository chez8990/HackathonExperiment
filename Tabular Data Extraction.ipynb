{
 "cells": [
  {
   "cell_type": "markdown",
   "metadata": {},
   "source": [
    "# Tabula Data Extraction API"
   ]
  },
  {
   "cell_type": "code",
   "execution_count": 522,
   "metadata": {},
   "outputs": [],
   "source": [
    "import pandas as pd\n",
    "import numpy as np\n",
    "import spacy\n",
    "import re"
   ]
  },
  {
   "cell_type": "code",
   "execution_count": 523,
   "metadata": {},
   "outputs": [],
   "source": [
    "nlp = spacy.load(\"en_core_web_sm\")"
   ]
  },
  {
   "cell_type": "code",
   "execution_count": 527,
   "metadata": {},
   "outputs": [],
   "source": [
    "#https://www.cnbc.com/2019/05/03/hsbc-reports-2019-first-quarter-earnings.html\n",
    "txt = \"\"\"\\\n",
    "The bank said its reported profit before tax in the first quarter \\\n",
    "was $6.213 billion, a 30.7% jump from last year’s $4.755 billion. \\\n",
    "Analyst forecasts compiled by Refinitiv showed that the \\\n",
    "bank’s reported profit before tax was expected to come in \\\n",
    "at $5.399 billion for the January to March period. \\\n",
    "\"\"\"\n",
    "doc = nlp(txt)"
   ]
  },
  {
   "cell_type": "code",
   "execution_count": 518,
   "metadata": {},
   "outputs": [],
   "source": [
    "txt = \"\"\"\\\n",
    "For example, U.S. imports from China almost doubled within five years \\\n",
    "from $51.5 billion ($84.2 billion in 2019 dollars) in 1996 to $102 billion \\\n",
    "($148 billion in 2019 dollars) in 2001.\\\n",
    "\"\"\"\n",
    "doc = nlp(txt)"
   ]
  },
  {
   "cell_type": "code",
   "execution_count": 549,
   "metadata": {},
   "outputs": [
    {
     "name": "stdout",
     "output_type": "stream",
     "text": [
      "the first quarter 48 65 DATE\n",
      "$6.213 billion 70 84 MONEY\n",
      "30.7% 88 93 PERCENT\n",
      "last year’s 104 115 DATE\n",
      "$4.755 billion 116 130 MONEY\n",
      "Refinitiv 162 171 ORG\n",
      "’s 192 194 ORG\n",
      "$5.399 billion 249 263 MONEY\n",
      "the January to March period 268 295 DATE\n"
     ]
    }
   ],
   "source": [
    "for ent in doc.ents:\n",
    "    print(ent.text, ent.start_char, ent.end_char, ent.label_)"
   ]
  },
  {
   "cell_type": "code",
   "execution_count": 541,
   "metadata": {},
   "outputs": [],
   "source": [
    "# def self_with_ancestor(token):\n",
    "#     return [token] + list(token.ancestors)\n",
    "\n",
    "# def n_common_tail(lst1, lst2):\n",
    "#     L = min(len(lst1), len(lst2))\n",
    "#     for i in range(1, L+1):\n",
    "#         if lst1[-i] != lst2[-i]:\n",
    "#             return i-1\n",
    "#     return L\n",
    "\n",
    "# def closest_entry_in_tree(token_ancestor, other_tokens_ancestors, default=None):\n",
    "#     # token_ancestor is (token, ancestor_list)\n",
    "#     # other_tokens_ancestors is list of (token, ancestor_list)\n",
    "#     if not other_tokens_ancestors:\n",
    "#         return default\n",
    "#     tok_ancestors = list(token_ancestor[1])\n",
    "#     # restrict to be in the same tree, i.e. at least one common ancestor\n",
    "#     n_commons = [(x, n_common_tail(tok_ancestors, x[1])) for x in other_tokens_ancestors]\n",
    "#     n_commons_in_tree = [x for x in n_commons if x[1] > 0]\n",
    "#     if not n_commons_in_tree:\n",
    "#         return default\n",
    "#     closest = max(n_commons_in_tree, key=lambda x: x[1])\n",
    "#     return closest[0]\n",
    "\n",
    "# def closest_token_in_tree(token_ancestor, other_tokens_ancestors, default=None):\n",
    "#     entry = closest_entry_in_tree(token_ancestor, other_tokens_ancestors, default)\n",
    "#     if entry:\n",
    "#         return entry[0]\n",
    "#     return entry\n",
    "\n",
    "# def tabular_data_extraction_1(ent):\n",
    "#     ents_with_ancestors = sorted([(ent, self_with_ancestor(ent.root))\n",
    "#                                   for ent in doc.ents],\n",
    "#                                  key=lambda x: x[0].start_char)\n",
    "#     values_with_ancestors = [x for x in ents_with_ancestors if x[0].label_ in ['MONEY', 'PERCENT', 'CARDINAL', 'QUANTITY']]\n",
    "#     dates_with_ancestors = [x for x in ents_with_ancestors if x[0].label_ in ['DATE', 'TIME']]\n",
    "#     return([(x[0], closest_token_in_tree(x, dates_with_ancestors)) for x in values_with_ancestors])"
   ]
  },
  {
   "cell_type": "code",
   "execution_count": 598,
   "metadata": {},
   "outputs": [],
   "source": [
    "def get_date(dates, sent, ent_order):\n",
    "    if (len(dates) == 0):\n",
    "        ent_date = []\n",
    "    else:\n",
    "        ent_date = [d['value'] for d in date_ents if d['sent'] == sent]\n",
    "        if (len(ent_date) == 0):\n",
    "            ent_date = [d['value'] for d in dates if d['order'] < ent_order]\n",
    "    return([ent_date[0] if len(ent_date) != 0 else ''][0])\n",
    "\n",
    "def tabular_data_extraction(doc):\n",
    "    sents = [i for l in [str(s).split(',') for s in list(doc.sents)] for i in l]\n",
    "    sents_start = np.array([txt.find(sents[i]) for i in range(len(sents))])\n",
    "    sents_end = sents_start + np.array([len(sents[i]) for i in range(len(sents))])\n",
    "    \n",
    "    sents_idx = []\n",
    "    for end in [e.end_char for e in doc.ents]:\n",
    "        sents_idx.append([i for i, x in enumerate(end <= sents_end) if x][0])\n",
    "        \n",
    "    ents_data = []\n",
    "    for i in range(len(doc.ents)):\n",
    "        ent = doc.ents[i]\n",
    "        sent = sents_idx[i]\n",
    "        if ent.label_ in ['DATE', 'TIME', 'MONEY', 'PERCENT', 'CARDINAL', 'QUANTITY']:\n",
    "            ents_data.append({\n",
    "                'value' : ent.text,\n",
    "                'item' : ent.label_,\n",
    "                'start' : ent.start_char,\n",
    "                'end' : ent.end_char,\n",
    "                'sent' : sent,\n",
    "                'order' : i\n",
    "            })\n",
    "            \n",
    "    dates = [d for d in ents_data if d['item'] in ['DATE', 'TIME']]\n",
    "    data = [d for d in ents_data if d['item'] in ['MONEY', 'PERCENT', 'CARDINAL', 'QUANTITY']]\n",
    "    for v in data:\n",
    "        v['date'] = get_date(dates, v['sent'], v['order'])\n",
    "    data = [{'value': d['value'], 'item': d['item'], 'date': d['date']} for d in outputs]\n",
    "    data = [list(d.values()) for d in data]\n",
    "    data.insert(0, ['Date', 'Value', 'Item'])\n",
    "    output = {\n",
    "        'value' : data,\n",
    "        'type' : 'table'\n",
    "    }\n",
    "    return(output)"
   ]
  },
  {
   "cell_type": "code",
   "execution_count": 599,
   "metadata": {},
   "outputs": [
    {
     "data": {
      "text/plain": [
       "{'value': [['Date', 'Value', 'Item'],\n",
       "  ['$6.213 billion', 'MONEY', 'the first quarter'],\n",
       "  ['30.7%', 'PERCENT', 'last year’s'],\n",
       "  ['$4.755 billion', 'MONEY', 'last year’s'],\n",
       "  ['$5.399 billion', 'MONEY', 'the January to March period']],\n",
       " 'type': 'table'}"
      ]
     },
     "execution_count": 599,
     "metadata": {},
     "output_type": "execute_result"
    }
   ],
   "source": [
    "tabular_data_extraction(doc)"
   ]
  }
 ],
 "metadata": {
  "kernelspec": {
   "display_name": "Python 3",
   "language": "python",
   "name": "python3"
  },
  "language_info": {
   "codemirror_mode": {
    "name": "ipython",
    "version": 3
   },
   "file_extension": ".py",
   "mimetype": "text/x-python",
   "name": "python",
   "nbconvert_exporter": "python",
   "pygments_lexer": "ipython3",
   "version": "3.7.3"
  }
 },
 "nbformat": 4,
 "nbformat_minor": 2
}
